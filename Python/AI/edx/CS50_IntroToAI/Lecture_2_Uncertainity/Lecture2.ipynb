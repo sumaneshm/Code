{
 "cells": [
  {
   "cell_type": "code",
   "execution_count": 4,
   "id": "0f6244d8",
   "metadata": {},
   "outputs": [
    {
     "name": "stdout",
     "output_type": "stream",
     "text": [
      "Trying to calculate the probability of the grass being wet given the rain and sprinkler states\n",
      "Updated\n",
      "tensor([0.1620])\n"
     ]
    }
   ],
   "source": [
    "from My_Code.likelihood import calculate_probability\n",
    "calculate_probability()\n"
   ]
  },
  {
   "cell_type": "code",
   "execution_count": null,
   "id": "396e4b73",
   "metadata": {},
   "outputs": [],
   "source": []
  }
 ],
 "metadata": {
  "kernelspec": {
   "display_name": "Python (Sumanesh)",
   "language": "python",
   "name": "sumanesh"
  },
  "language_info": {
   "codemirror_mode": {
    "name": "ipython",
    "version": 3
   },
   "file_extension": ".py",
   "mimetype": "text/x-python",
   "name": "python",
   "nbconvert_exporter": "python",
   "pygments_lexer": "ipython3",
   "version": "3.13.3"
  }
 },
 "nbformat": 4,
 "nbformat_minor": 5
}
