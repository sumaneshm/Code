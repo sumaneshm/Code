{
 "cells": [
  {
   "cell_type": "markdown",
   "id": "31fe5fec",
   "metadata": {},
   "source": [
    "<B>Obsidian Reference<B>\n",
    "<BR/>\n",
    "[Inference in Probablity#Rejection Sampling]    \n"
   ]
  },
  {
   "cell_type": "code",
   "execution_count": 4,
   "id": "0f6244d8",
   "metadata": {},
   "outputs": [
    {
     "name": "stdout",
     "output_type": "stream",
     "text": [
      "Trying to calculate the probability of the grass being wet given the rain and sprinkler states\n",
      "tensor([0.1620])\n"
     ]
    }
   ],
   "source": [
    "from My_Code.likelihood import calculate_probability\n",
    "calculate_probability()\n"
   ]
  },
  {
   "cell_type": "markdown",
   "id": "920bb625",
   "metadata": {},
   "source": [
    "Let us double check if the Instrucor_code is working fine\n"
   ]
  },
  {
   "cell_type": "code",
   "execution_count": 3,
   "id": "e1126acf",
   "metadata": {},
   "outputs": [
    {
     "name": "stdout",
     "output_type": "stream",
     "text": [
      "tensor([0.0378])\n"
     ]
    }
   ],
   "source": [
    "from Instructor_code.bayesnet.likelihood import execute_code\n",
    "execute_code()"
   ]
  },
  {
   "cell_type": "markdown",
   "id": "dbb8ac6c",
   "metadata": {},
   "source": []
  },
  {
   "cell_type": "code",
   "execution_count": 1,
   "id": "eb096239",
   "metadata": {},
   "outputs": [
    {
     "name": "stdout",
     "output_type": "stream",
     "text": [
      "Counter({'attend': 1219, 'miss': 831})\n"
     ]
    }
   ],
   "source": [
    "from Instructor_code.bayesnet.sample import perform_rejection_sampling\n",
    "perform_rejection_sampling()\n",
    "\n"
   ]
  },
  {
   "cell_type": "code",
   "execution_count": 13,
   "id": "0524b12d",
   "metadata": {},
   "outputs": [
    {
     "data": {
      "text/plain": [
       "Counter({'a': 6,\n",
       "         'm': 2,\n",
       "         'n': 2,\n",
       "         's': 2,\n",
       "         'h': 2,\n",
       "         'o': 2,\n",
       "         'S': 1,\n",
       "         'u': 1,\n",
       "         'e': 1,\n",
       "         ' ': 1,\n",
       "         'M': 1,\n",
       "         'g': 1,\n",
       "         'r': 1,\n",
       "         'b': 1})"
      ]
     },
     "execution_count": 13,
     "metadata": {},
     "output_type": "execute_result"
    }
   ],
   "source": [
    "from collections import Counter\n",
    "Counter('Sumanesh Magarabooshanam')"
   ]
  },
  {
   "cell_type": "markdown",
   "id": "016ac467",
   "metadata": {},
   "source": []
  },
  {
   "cell_type": "code",
   "execution_count": 3,
   "id": "2c00a728",
   "metadata": {},
   "outputs": [
    {
     "name": "stdout",
     "output_type": "stream",
     "text": [
      "rain\n",
      "    none: 0.4583\n",
      "    light: 0.3069\n",
      "    heavy: 0.2348\n",
      "maintenance\n",
      "    yes: 0.3567\n",
      "    no: 0.6433\n",
      "train\n",
      "    on time: 0.0000\n",
      "    delayed: 1.0000\n",
      "appointment\n",
      "    attend: 0.6000\n",
      "    miss: 0.4000\n"
     ]
    }
   ],
   "source": [
    "from Instructor_code.bayesnet.inference import infer\n",
    "infer()"
   ]
  },
  {
   "cell_type": "code",
   "execution_count": null,
   "id": "a3882956",
   "metadata": {},
   "outputs": [],
   "source": []
  }
 ],
 "metadata": {
  "kernelspec": {
   "display_name": "Python (Sumanesh)",
   "language": "python",
   "name": "sumanesh"
  },
  "language_info": {
   "codemirror_mode": {
    "name": "ipython",
    "version": 3
   },
   "file_extension": ".py",
   "mimetype": "text/x-python",
   "name": "python",
   "nbconvert_exporter": "python",
   "pygments_lexer": "ipython3",
   "version": "3.13.3"
  }
 },
 "nbformat": 4,
 "nbformat_minor": 5
}
