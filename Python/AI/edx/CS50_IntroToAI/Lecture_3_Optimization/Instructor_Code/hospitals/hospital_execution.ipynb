{
 "cells": [
  {
   "cell_type": "markdown",
   "id": "acf07846",
   "metadata": {},
   "source": [
    "<H2> CS50 Intro to AI Lecture 3 Optimization </H2>\n",
    "Instructor code code execution.\n",
    "\n",
    "Obsidian reference : *[[Optimization Problems#Hill climbing algorithm]]*\n"
   ]
  },
  {
   "cell_type": "code",
   "execution_count": null,
   "id": "2e89fadd",
   "metadata": {},
   "outputs": [],
   "source": []
  }
 ],
 "metadata": {
  "language_info": {
   "name": "python"
  }
 },
 "nbformat": 4,
 "nbformat_minor": 5
}
