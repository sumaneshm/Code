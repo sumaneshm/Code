{
 "cells": [
  {
   "cell_type": "markdown",
   "id": "acf07846",
   "metadata": {},
   "source": [
    "<H2> CS50 Intro to AI Lecture 3 Optimization </H2>\n",
    "Instructor code code execution.\n",
    "\n",
    "Obsidian reference : *[[Optimization Problems#Hill climbing algorithm]]*\n"
   ]
  },
  {
   "cell_type": "code",
   "execution_count": null,
   "id": "2e89fadd",
   "metadata": {},
   "outputs": [
    {
     "name": "stdout",
     "output_type": "stream",
     "text": [
      "Initial state: cost 94\n",
      "Found better neighbor: cost 89\n",
      "Found better neighbor: cost 83\n",
      "Found better neighbor: cost 76\n",
      "Found better neighbor: cost 73\n",
      "Found better neighbor: cost 65\n",
      "Found better neighbor: cost 62\n",
      "Found better neighbor: cost 59\n",
      "Found better neighbor: cost 58\n",
      "Found better neighbor: cost 57\n",
      "Found better neighbor: cost 55\n",
      "Found better neighbor: cost 53\n",
      "Found better neighbor: cost 51\n",
      "Found better neighbor: cost 49\n",
      "Found better neighbor: cost 47\n",
      "Found better neighbor: cost 45\n",
      "Found better neighbor: cost 44\n"
     ]
    }
   ],
   "source": [
    "\n",
    "from hospitals import *"
   ]
  },
  {
   "cell_type": "markdown",
   "id": "72533c59",
   "metadata": {},
   "source": [
    "Executing the above will create a bunch of images which helps visualize how each and every step it tried to move the position of the hospitals such that it found a better solution. Not checking in the images to save space."
   ]
  },
  {
   "cell_type": "markdown",
   "id": "7bc4d251",
   "metadata": {},
   "source": []
  }
 ],
 "metadata": {
  "kernelspec": {
   "display_name": "Python (Sumanesh)",
   "language": "python",
   "name": "sumanesh"
  },
  "language_info": {
   "codemirror_mode": {
    "name": "ipython",
    "version": 3
   },
   "file_extension": ".py",
   "mimetype": "text/x-python",
   "name": "python",
   "nbconvert_exporter": "python",
   "pygments_lexer": "ipython3",
   "version": "3.13.3"
  }
 },
 "nbformat": 4,
 "nbformat_minor": 5
}
