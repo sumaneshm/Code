{
 "cells": [
  {
   "cell_type": "markdown",
   "id": "acf07846",
   "metadata": {},
   "source": [
    "<H2> CS50 Intro to AI Lecture 3 Optimization </H2>\n",
    "Instructor code code execution.\n",
    "\n",
    "Obsidian reference : *[[Optimization Problems#Hill climbing algorithm]]*\n"
   ]
  },
  {
   "cell_type": "code",
   "execution_count": null,
   "id": "2e89fadd",
   "metadata": {},
   "outputs": [
    {
     "name": "stdout",
     "output_type": "stream",
     "text": [
      "Initial state: cost 94\n",
      "Found better neighbor: cost 89\n",
      "Found better neighbor: cost 83\n",
      "Found better neighbor: cost 76\n",
      "Found better neighbor: cost 73\n",
      "Found better neighbor: cost 65\n",
      "Found better neighbor: cost 62\n",
      "Found better neighbor: cost 59\n",
      "Found better neighbor: cost 58\n",
      "Found better neighbor: cost 57\n",
      "Found better neighbor: cost 55\n",
      "Found better neighbor: cost 53\n",
      "Found better neighbor: cost 51\n",
      "Found better neighbor: cost 49\n",
      "Found better neighbor: cost 47\n",
      "Found better neighbor: cost 45\n",
      "Found better neighbor: cost 44\n"
     ]
    }
   ],
   "source": [
    "\n",
    "from hospitals import *"
   ]
  },
  {
   "cell_type": "markdown",
   "id": "72533c59",
   "metadata": {},
   "source": [
    "Executing the above will create a bunch of images which helps visualize how each and every step it tried to move the position of the hospitals such that it found a better solution. Not checking in the images to save space.\n",
    "Next let us analyze the random restart algorithm, here it will restart maximum number of times we specify and it will pick the best solution out of all the restarts. Every restart will also picks new initial state.\n"
   ]
  },
  {
   "cell_type": "code",
   "execution_count": 4,
   "id": "8ccf24f4",
   "metadata": {},
   "outputs": [
    {
     "name": "stdout",
     "output_type": "stream",
     "text": [
      "0: Found new best state: cost 65\n",
      "1: Found new best state: cost 56\n",
      "2: Found new best state: cost 48\n",
      "3: Found state: cost 62\n",
      "4: Found new best state: cost 44\n",
      "5: Found new best state: cost 40\n",
      "6: Found state: cost 46\n",
      "7: Found state: cost 44\n",
      "8: Found state: cost 58\n",
      "9: Found state: cost 46\n",
      "10: Found state: cost 45\n",
      "11: Found state: cost 43\n",
      "12: Found state: cost 40\n",
      "13: Found state: cost 44\n",
      "14: Found state: cost 44\n",
      "15: Found state: cost 48\n",
      "16: Found state: cost 44\n",
      "17: Found state: cost 42\n",
      "18: Found state: cost 47\n",
      "19: Found state: cost 65\n"
     ]
    }
   ],
   "source": [
    "\n",
    "# Create a new space and add houses randomly\n",
    "s = Space(height=10, width=20, num_hospitals=3)\n",
    "for i in range(15):\n",
    "    s.add_house(random.randrange(s.height), random.randrange(s.width))\n",
    "\n",
    "# Use local search to determine hospital placement\n",
    "hospitals = s.random_restart(20, image_prefix=\"hospitals\", log=True)\n"
   ]
  },
  {
   "cell_type": "code",
   "execution_count": null,
   "id": "43324ca7",
   "metadata": {},
   "outputs": [],
   "source": []
  }
 ],
 "metadata": {
  "kernelspec": {
   "display_name": "Python (Sumanesh)",
   "language": "python",
   "name": "sumanesh"
  },
  "language_info": {
   "codemirror_mode": {
    "name": "ipython",
    "version": 3
   },
   "file_extension": ".py",
   "mimetype": "text/x-python",
   "name": "python",
   "nbconvert_exporter": "python",
   "pygments_lexer": "ipython3",
   "version": "3.13.3"
  }
 },
 "nbformat": 4,
 "nbformat_minor": 5
}
